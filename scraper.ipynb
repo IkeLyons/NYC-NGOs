{
 "cells": [
  {
   "cell_type": "code",
   "execution_count": 1,
   "metadata": {},
   "outputs": [],
   "source": [
    "# bs4 for scraping, requests for requesting, pandas for data-ing\n",
    "from bs4 import BeautifulSoup\n",
    "import requests\n",
    "import pandas as pd"
   ]
  },
  {
   "cell_type": "code",
   "execution_count": 2,
   "metadata": {},
   "outputs": [],
   "source": [
    "# First website to be scraped\n",
    "URL1 = \"https://www.nonprofitnewyork.org/join/directory/\"\n",
    "page = requests.get(URL1)"
   ]
  },
  {
   "cell_type": "code",
   "execution_count": 3,
   "metadata": {},
   "outputs": [],
   "source": [
    "# scrape relevant HTML\n",
    "soup1 = BeautifulSoup(page.content, \"html.parser\")\n",
    "all_non_profits = soup1.select('.tab-pane > ul > li')"
   ]
  },
  {
   "cell_type": "code",
   "execution_count": 4,
   "metadata": {},
   "outputs": [],
   "source": [
    "# process scraped HTML and extract website + non profite name\n",
    "nps = []\n",
    "\n",
    "for np in all_non_profits:\n",
    "    a = np.find(\"a\")\n",
    "    if a:\n",
    "        nps.append({'website': a['href'], 'name': a.contents[0]})\n",
    "    else:\n",
    "        # text of the non linked nps is the second child of the li tag\n",
    "        nps.append({'name': np.contents[1]})"
   ]
  },
  {
   "cell_type": "code",
   "execution_count": 8,
   "metadata": {},
   "outputs": [],
   "source": [
    "# Save the data\n",
    "df1 = pd.DataFrame(nps)\n",
    "# print(df1.head())\n",
    "df1.to_csv('1.csv')"
   ]
  }
 ],
 "metadata": {
  "kernelspec": {
   "display_name": "Python 3",
   "language": "python",
   "name": "python3"
  },
  "language_info": {
   "codemirror_mode": {
    "name": "ipython",
    "version": 3
   },
   "file_extension": ".py",
   "mimetype": "text/x-python",
   "name": "python",
   "nbconvert_exporter": "python",
   "pygments_lexer": "ipython3",
   "version": "3.8.9"
  },
  "orig_nbformat": 4,
  "vscode": {
   "interpreter": {
    "hash": "20bf69066c0dd38d51965b69d5e1b6e387082e3198ba56e97997ac55f4e50ad0"
   }
  }
 },
 "nbformat": 4,
 "nbformat_minor": 2
}
