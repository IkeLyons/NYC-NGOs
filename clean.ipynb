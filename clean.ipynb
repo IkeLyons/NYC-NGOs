{
 "cells": [
  {
   "cell_type": "code",
   "execution_count": 46,
   "metadata": {},
   "outputs": [],
   "source": [
    "import pandas as pd"
   ]
  },
  {
   "cell_type": "code",
   "execution_count": 47,
   "metadata": {},
   "outputs": [
    {
     "name": "stdout",
     "output_type": "stream",
     "text": [
      "                        website_x                                name_x  \\\n",
      "0   https://www.abetterchance.org                 A Better Chance, Inc.   \n",
      "1  https://www.abetterjamaica.org                A Better Jamaica, Inc.   \n",
      "2   https://www.apublicspace.org/                        A Public Space   \n",
      "3    https://absolutesupport.org/  Absolute Family Support Services Inc   \n",
      "4       https://www.accessnow.org                            Access Now   \n",
      "\n",
      "                   netloc name_y website_y name description website address  \n",
      "0   www.abetterchance.org    NaN       NaN  NaN         NaN     NaN     NaN  \n",
      "1  www.abetterjamaica.org    NaN       NaN  NaN         NaN     NaN     NaN  \n",
      "2    www.apublicspace.org    NaN       NaN  NaN         NaN     NaN     NaN  \n",
      "3     absolutesupport.org    NaN       NaN  NaN         NaN     NaN     NaN  \n",
      "4       www.accessnow.org    NaN       NaN  NaN         NaN     NaN     NaN  \n"
     ]
    }
   ],
   "source": [
    "unclean_df = pd.read_csv('merged.csv')\n",
    "print(unclean_df.head())"
   ]
  },
  {
   "cell_type": "code",
   "execution_count": 48,
   "metadata": {},
   "outputs": [],
   "source": [
    "# avoid ugly nan text in output\n",
    "unclean_df = unclean_df.fillna('')"
   ]
  },
  {
   "cell_type": "code",
   "execution_count": 49,
   "metadata": {},
   "outputs": [],
   "source": [
    "# just get one of the names for each NGO\n",
    "def get_name(row):\n",
    "    if row['name'] != '':\n",
    "        return row['name']\n",
    "    elif row['name_x'] != '':\n",
    "        return row['name_x']\n",
    "    else:\n",
    "        return row['name_y']"
   ]
  },
  {
   "cell_type": "code",
   "execution_count": 50,
   "metadata": {},
   "outputs": [],
   "source": [
    "df_output = pd.DataFrame()\n",
    "df_output['website'] = unclean_df[['website', 'website_x', 'website_y']].astype(str).agg(' '.join, axis=1) \n",
    "df_output['name'] = unclean_df.apply(lambda x: get_name(x), axis=1)\n",
    "# df_output['name'] = unclean_df[['name', 'name_x', 'name_y']].astype(str).agg(' or '.join, axis=1) \n",
    "df_output['description'] = unclean_df['description']\n",
    "df_output['address'] = unclean_df['address']"
   ]
  },
  {
   "cell_type": "code",
   "execution_count": 51,
   "metadata": {},
   "outputs": [],
   "source": [
    "df_output.to_csv('output.csv', index=False)"
   ]
  }
 ],
 "metadata": {
  "kernelspec": {
   "display_name": "Python 3.9.10 64-bit",
   "language": "python",
   "name": "python3"
  },
  "language_info": {
   "codemirror_mode": {
    "name": "ipython",
    "version": 3
   },
   "file_extension": ".py",
   "mimetype": "text/x-python",
   "name": "python",
   "nbconvert_exporter": "python",
   "pygments_lexer": "ipython3",
   "version": "3.9.10"
  },
  "orig_nbformat": 4,
  "vscode": {
   "interpreter": {
    "hash": "b0fa6594d8f4cbf19f97940f81e996739fb7646882a419484c72d19e05852a7e"
   }
  }
 },
 "nbformat": 4,
 "nbformat_minor": 2
}
